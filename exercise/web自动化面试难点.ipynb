{
 "cells": [
  {
   "cell_type": "code",
   "execution_count": null,
   "metadata": {
    "pycharm": {
     "is_executing": false
    }
   },
   "outputs": [],
   "source": [
    "#下拉框如何定位\n",
    "from selenium import webdriver\n",
    "import time\n",
    "\n",
    "\n",
    "driver = webdriver.Chrome()\n",
    "driver.get(\"https://www.jd.com/\")\n",
    "\n",
    "driver.set_window_size(600,800)\n",
    "js = \"window.scrollTo(100000,100000);\"\n",
    "driver.execute_script(js)\n",
    "time.sleep(10)\n",
    "driver.close()\n",
    "\n"
   ]
  },
  {
   "cell_type": "code",
   "execution_count": null,
   "metadata": {},
   "outputs": [],
   "source": [
    "#时间控件如何定位\n",
    "\n",
    "from selenium import webdriver\n",
    "import time\n",
    "\n",
    "\n",
    "driver = webdriver.Chrome()\n",
    "driver.get(\"https://www.12306.cn/index/index.html\")\n",
    "\n",
    "# driver.find_element_by_xpath('//*[@id=\"train_date\"]')\n",
    "#主要是需要使用js脚本\n",
    "js = \"document.getElementById('train_date').removeAttribute('readonly')\"\n",
    "driver.execute_script(js)\n",
    "#清除到定位到的元素的属性\n",
    "driver.find_element_by_id(\"train_date\").clear()\n",
    "driver.find_element_by_id(\"train_date\").send_keys(\"2020-04-15\")\n",
    "time.sleep(10)\n",
    "driver.close()"
   ]
  },
  {
   "cell_type": "code",
   "execution_count": 8,
   "metadata": {
    "pycharm": {
     "name": "#%%\n"
    }
   },
   "outputs": [],
   "source": [
    "#web弹出框如何处理\n",
    "from selenium import webdriver\n",
    "import time\n",
    "\n",
    "\n",
    "driver = webdriver.Chrome()\n",
    "driver.get(\"https://www.baidu.com/\")\n",
    "driver.find_element_by_link_text(\"登录\").click()\n",
    "time.sleep(2)\n",
    "driver.find_element_by_id(\"TANGRAM__PSP_10__footerULoginBtn\").click()\n",
    "driver.find_element_by_id(\"TANGRAM__PSP_10__userName\").send_keys(\"15617521232\")\n",
    "driver.find_element_by_id(\"TANGRAM__PSP_10__password\").send_keys(\"99999999\")\n",
    "driver.find_element_by_id(\"TANGRAM__PSP_10__submit\").click()\n",
    "\n",
    "# driver.find_element_by_xpath('//*[@id=\"train_date\"]')\n",
    "#主要是需要使用js脚本\n",
    "# js = \"document.getElementById('train_date').removeAttribute('readonly')\"\n",
    "# driver.execute_script(js)\n",
    "time.sleep(10)\n",
    "driver.close()\n"
   ]
  },
  {
   "cell_type": "code",
   "execution_count": 10,
   "metadata": {},
   "outputs": [],
   "source": [
    "# 浏览器自带弹出框定位\n",
    "from selenium import webdriver\n",
    "import time\n",
    "\n",
    "driver = webdriver.Chrome()\n",
    "driver.get(\"file:///E:/pythonWorkspace/interview_python/exercise/alert.html\")\n",
    "driver.find_element_by_id(\"alert\").click()\n",
    "# 注意这里的操作\n",
    "alert = driver.switch_to.alert\n",
    "time.sleep(1)\n",
    "alert.accept()\n",
    "time.sleep(3)\n",
    "driver.close()\n"
   ]
  },
  {
   "cell_type": "code",
   "execution_count": 12,
   "metadata": {},
   "outputs": [],
   "source": [
    "#如何切换控制浏览器句柄\n",
    "from selenium import webdriver\n",
    "import time\n",
    "\n",
    "driver = webdriver.Chrome()\n",
    "driver.get(\"https://www.sohu.com/\")\n",
    "window = driver.current_window_handle\n",
    "driver.find_element_by_link_text(\"新闻\").click()\n",
    "windows = driver.window_handles\n",
    "for current_windows in windows:\n",
    "    if current_windows != window:\n",
    "        driver.switch_to.window(current_windows)\n",
    "time.sleep(3)\n",
    "driver.close()\n",
    "driver.quit()\n",
    "\n",
    "\n",
    "\n",
    "\n",
    "\n"
   ]
  },
  {
   "cell_type": "code",
   "execution_count": 17,
   "metadata": {},
   "outputs": [],
   "source": [
    "#如何切换控制浏览器句柄另一种实现方式\n",
    "from selenium import webdriver\n",
    "import time\n",
    "\n",
    "driver = webdriver.Chrome()\n",
    "driver.get(\"https://www.sohu.com/\")\n",
    "driver.find_element_by_link_text(\"新闻\").click()\n",
    "windows = driver.window_handles\n",
    "#此处表示是最新的窗口\n",
    "driver.switch_to.window(windows[-1])\n",
    "time.sleep(2)\n",
    "driver.close()\n",
    "time.sleep(3)\n",
    "driver.quit()\n"
   ]
  },
  {
   "cell_type": "code",
   "execution_count": null,
   "metadata": {},
   "outputs": [],
   "source": [
    "# 验证码问题解决思路\n",
    "#1:识别 图片验证识别的库,别人免费的API接口\n",
    "#2：万能验证码，开发同学提供的 缺点是开发有工作量，到生产环境需要去掉这个逻辑\n",
    "#3：debug,手工输入后，在执行代码点击登录，缺点是不能持续集成\n",
    "#4：到数据库中拿，验证码生成逻辑，后端有一个算法，生成验证码，保存后，传给前端，前端展示保存的位置\n",
    "#数据库（redis,自己维护过期时间）测试同学就到这个redis当中读一下这个验证码就可以了，图片也是数据的一种，它在数据库中就是一串字符串，这里\n",
    "#作为测试同学，需要搞清楚一个逻辑：身份验证\n"
   ]
  },
  {
   "cell_type": "code",
   "execution_count": 21,
   "outputs": [
    {
     "name": "stdout",
     "text": [
      "https://passport.baidu.com/v2/?login&tpl=mn&u=http%3A%2F%2Fwww.baidu.com%2F&sms=5\n"
     ],
     "output_type": "stream"
    }
   ],
   "source": [
    "#显性等待\n",
    "from selenium.webdriver.support.wait import WebDriverWait\n",
    "from selenium.webdriver.support import expected_conditions as EC\n",
    "from selenium.webdriver.common.by import By\n",
    "\n",
    "driver = webdriver.Chrome()\n",
    "driver.implicitly_wait(10)\n",
    "#隐形等待和显性等待是可以同时使用的，等待的时长取决于两者的最大值\n",
    "driver.get(\"https://www.baidu.com/\")\n",
    "try:\n",
    "    WebDriverWait(driver,15,0.5).until(EC.presence_of_element_located((By.LINK_TEXT,'登录')))\n",
    "    print(driver.find_element_by_link_text('登录').get_attribute('href'))\n",
    "finally:\n",
    "    driver.close()\n"
   ],
   "metadata": {
    "collapsed": false,
    "pycharm": {
     "name": "#%%\n",
     "is_executing": false
    }
   }
  }
 ],
 "metadata": {
  "kernelspec": {
   "display_name": "Python 3",
   "language": "python",
   "name": "python3"
  },
  "language_info": {
   "codemirror_mode": {
    "name": "ipython",
    "version": 3
   },
   "file_extension": ".py",
   "mimetype": "text/x-python",
   "name": "python",
   "nbconvert_exporter": "python",
   "pygments_lexer": "ipython3",
   "version": "3.6.8"
  },
  "pycharm": {
   "stem_cell": {
    "cell_type": "raw",
    "source": [],
    "metadata": {
     "collapsed": false
    }
   }
  }
 },
 "nbformat": 4,
 "nbformat_minor": 1
}