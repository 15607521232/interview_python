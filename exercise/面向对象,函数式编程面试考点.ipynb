{
 "cells": [
  {
   "cell_type": "code",
   "execution_count": 8,
   "metadata": {},
   "outputs": [
    {
     "name": "stdout",
     "output_type": "stream",
     "text": [
      "beida\n",
      "['_Student__name', '__class__', '__delattr__', '__dict__', '__dir__', '__doc__', '__eq__', '__format__', '__ge__', '__getattribute__', '__gt__', '__hash__', '__init__', '__init_subclass__', '__le__', '__lt__', '__module__', '__ne__', '__new__', '__reduce__', '__reduce_ex__', '__repr__', '__setattr__', '__sizeof__', '__str__', '__subclasshook__', '__weakref__', 'school']\n",
      "liguang\n",
      "liguang\n"
     ]
    }
   ],
   "source": [
    "class Student():\n",
    "    __name = 'liguang'\n",
    "    school = \"beida\"\n",
    "print(Student.school)\n",
    "print(dir(Student))\n",
    "print(Student._Student__name)\n",
    "s = Student()\n",
    "print(s._Student__name)"
   ]
  },
  {
   "cell_type": "code",
   "execution_count": 19,
   "metadata": {},
   "outputs": [
    {
     "name": "stdout",
     "output_type": "stream",
     "text": [
      "实例属性 eat\n",
      "类属性 drink\n",
      "student run\n",
      "student sleep\n"
     ]
    }
   ],
   "source": [
    "class Student():\n",
    "    name = \"类属性\"\n",
    "\n",
    "    def eat(self):\n",
    "        self.name = \"实例属性\"\n",
    "        print(self.name + \" eat\" )\n",
    "    \n",
    "    @classmethod\n",
    "    def drink(cls):\n",
    "        print(cls.name +\" drink\" )\n",
    "\n",
    "    @staticmethod\n",
    "    def run():\n",
    "        print(\"student run\")\n",
    "        \n",
    "    def __sleep(self):\n",
    "        print(\"student sleep\")\n",
    "\n",
    "\n",
    "s = Student()\n",
    "s.eat()\n",
    "Student.drink()\n",
    "Student.run()\n",
    "s._Student__sleep()"
   ]
  },
  {
   "cell_type": "code",
   "execution_count": null,
   "metadata": {},
   "outputs": [],
   "source": []
  }
 ],
 "metadata": {
  "kernelspec": {
   "display_name": "Python 3",
   "language": "python",
   "name": "python3"
  },
  "language_info": {
   "codemirror_mode": {
    "name": "ipython",
    "version": 3
   },
   "file_extension": ".py",
   "mimetype": "text/x-python",
   "name": "python",
   "nbconvert_exporter": "python",
   "pygments_lexer": "ipython3",
   "version": "3.6.8"
  },
  "pycharm": {
   "stem_cell": {
    "cell_type": "raw",
    "metadata": {
     "collapsed": false
    },
    "source": []
   }
  }
 },
 "nbformat": 4,
 "nbformat_minor": 1
}
