{
 "cells": [
  {
   "cell_type": "code",
   "execution_count": 1,
   "metadata": {
    "pycharm": {
     "is_executing": false
    }
   },
   "outputs": [
    {
     "name": "stdout",
     "output_type": "stream",
     "text": [
      "beida\n",
      "['_Student__name', '__class__', '__delattr__', '__dict__', '__dir__', '__doc__', '__eq__', '__format__', '__ge__', '__getattribute__', '__gt__', '__hash__', '__init__', '__init_subclass__', '__le__', '__lt__', '__module__', '__ne__', '__new__', '__reduce__', '__reduce_ex__', '__repr__', '__setattr__', '__sizeof__', '__str__', '__subclasshook__', '__weakref__', 'school']\n",
      "liguang\n",
      "liguang\n"
     ]
    }
   ],
   "source": [
    "class Student():\n",
    "    __name = 'liguang'\n",
    "    school = \"beida\"\n",
    "print(Student.school)\n",
    "print(dir(Student))\n",
    "print(Student._Student__name)\n",
    "s = Student()\n",
    "print(s._Student__name)"
   ]
  },
  {
   "cell_type": "code",
   "execution_count": 2,
   "metadata": {
    "pycharm": {
     "is_executing": false
    }
   },
   "outputs": [
    {
     "name": "stdout",
     "output_type": "stream",
     "text": [
      "实例属性 eat\n",
      "类属性 drink\n",
      "student run\n",
      "student sleep\n"
     ]
    }
   ],
   "source": [
    "class Student():\n",
    "    name = \"类属性\"\n",
    "\n",
    "    def eat(self):\n",
    "        self.name = \"实例属性\"\n",
    "        print(self.name + \" eat\" )\n",
    "    \n",
    "    @classmethod\n",
    "    def drink(cls):\n",
    "        print(cls.name +\" drink\" )\n",
    "\n",
    "    @staticmethod\n",
    "    def run():\n",
    "        print(\"student run\")\n",
    "        \n",
    "    def __sleep(self):\n",
    "        print(\"student sleep\")\n",
    "\n",
    "\n",
    "s = Student()\n",
    "s.eat()\n",
    "Student.drink()\n",
    "Student.run()\n",
    "s._Student__sleep()"
   ]
  },
  {
   "cell_type": "code",
   "execution_count": 5,
   "metadata": {
    "pycharm": {
     "is_executing": false
    }
   },
   "outputs": [
    {
     "name": "stdout",
     "output_type": "stream",
     "text": [
      " \n",
      "hello\n",
      "python\n",
      "********************\n",
      "1\n",
      "A\n",
      "[1, 2]\n",
      "3.14\n",
      "{'a': 1}\n"
     ]
    }
   ],
   "source": [
    "#用函数实现过滤掉集合list1 = [ ' ', 'hello', 'python', None]中的空格和空值\n",
    "'''\n",
    "filter(function, iterable)\n",
    "'''\n",
    "\n",
    "list1 = [ ' ', 'hello', 'python', None]\n",
    "list_out = filter(None,list1)\n",
    "for i in list_out:\n",
    "    print(i)\n",
    "    \n",
    "print(\"*\" * 20)\n",
    "L = [1,'',0,'A',\"  \", None,[1,2],False,3.14,[],{'a':1}, {}]\n",
    "L_out = filter(lambda s: s and (type(s) != str or len(s.strip()) > 0), L)\n",
    "for i in L_out:\n",
    "    print(i)\n",
    "\n",
    "    \n"
   ]
  },
  {
   "cell_type": "code",
   "execution_count": 8,
   "metadata": {},
   "outputs": [
    {
     "name": "stdout",
     "output_type": "stream",
     "text": [
      "15\n",
      "********************\n",
      "15\n"
     ]
    }
   ],
   "source": [
    "# 用函数方法实现计算集合 list1 = [1,2,3,4,5]中，所有元素的和\n",
    "list1 = [1,2,3,4,5]\n",
    "s = sum(list1)\n",
    "print(s)\n",
    "\n",
    "print(\"*\" * 20)\n",
    "\n",
    "#自己实现函数\n",
    "def list_sum(list):\n",
    "    x = 0\n",
    "    for i in list1:\n",
    "        x += i\n",
    "    return x\n",
    "\n",
    "li_sum = list_sum(list1)\n",
    "print(li_sum)"
   ]
  },
  {
   "cell_type": "code",
   "execution_count": null,
   "metadata": {},
   "outputs": [],
   "source": []
  }
 ],
 "metadata": {
  "kernelspec": {
   "display_name": "Python 3",
   "language": "python",
   "name": "python3"
  },
  "language_info": {
   "codemirror_mode": {
    "name": "ipython",
    "version": 3
   },
   "file_extension": ".py",
   "mimetype": "text/x-python",
   "name": "python",
   "nbconvert_exporter": "python",
   "pygments_lexer": "ipython3",
   "version": "3.6.8"
  },
  "pycharm": {
   "stem_cell": {
    "cell_type": "raw",
    "metadata": {
     "collapsed": false
    },
    "source": []
   }
  }
 },
 "nbformat": 4,
 "nbformat_minor": 1
}
